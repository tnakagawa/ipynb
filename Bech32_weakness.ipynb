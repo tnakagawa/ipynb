{
  "nbformat": 4,
  "nbformat_minor": 0,
  "metadata": {
    "colab": {
      "name": "Bech32_weakness.ipynb",
      "provenance": [],
      "collapsed_sections": [],
      "include_colab_link": true
    },
    "kernelspec": {
      "name": "python3",
      "display_name": "Python 3"
    }
  },
  "cells": [
    {
      "cell_type": "markdown",
      "metadata": {
        "id": "view-in-github",
        "colab_type": "text"
      },
      "source": [
        "<a href=\"https://colab.research.google.com/github/tnakagawa/ipynb/blob/master/Bech32_weakness.ipynb\" target=\"_parent\"><img src=\"https://colab.research.google.com/assets/colab-badge.svg\" alt=\"Open In Colab\"/></a>"
      ]
    },
    {
      "cell_type": "markdown",
      "metadata": {
        "id": "-omFJLv5VpNU",
        "colab_type": "text"
      },
      "source": [
        "# Bech32の脆弱性\n",
        "\n",
        "[Qiita](https://qiita.com/tnakagawa/items/02d34f0bf7c8dacc65c3)に投稿した記事の検証です。\n"
      ]
    },
    {
      "cell_type": "code",
      "metadata": {
        "id": "VB68f03LVhvX",
        "colab_type": "code",
        "colab": {}
      },
      "source": [
        "!wget https://raw.githubusercontent.com/sipa/bech32/master/ref/python/segwit_addr.py -P local_modules -nc\n",
        "\n",
        "import sys\n",
        "sys.path.append('local_modules')\n",
        "\n",
        "from local_modules.segwit_addr import *\n",
        "\n",
        "hrp = \"te\"\n",
        "data = [25]\n",
        "str = bech32_encode(hrp, data)\n",
        "print(hrp, data, '-->', str)\n",
        "\n",
        "hrp, data = bech32_decode(str)\n",
        "print(str, '-->', hrp, data)\n",
        "\n",
        "str = 'te1eacsl9qp'\n",
        "hrp, data = bech32_decode(str)\n",
        "print(str, '-->', hrp, data)\n",
        "\n"
      ],
      "execution_count": 0,
      "outputs": []
    },
    {
      "cell_type": "code",
      "metadata": {
        "id": "g1HB14tA9IdJ",
        "colab_type": "code",
        "colab": {
          "base_uri": "https://localhost:8080/",
          "height": 153
        },
        "outputId": "ea87c61f-b287-41af-9d80-4a4e2c6b3ac1"
      },
      "source": [
        "str = 'ii2134hk2xmat79tp'\n",
        "hrp, data = bech32_decode(str)\n",
        "print('{:25s}'.format(str), '-->', hrp, data)\n",
        "\n",
        "str = 'ii2134hk2xmat79tqp'\n",
        "hrp, data = bech32_decode(str)\n",
        "print('{:25s}'.format(str), '-->', hrp, data)\n",
        "\n",
        "str = 'ii2134hk2xmat79tqqp'\n",
        "hrp, data = bech32_decode(str)\n",
        "print('{:25s}'.format(str), '-->', hrp, data)\n",
        "\n",
        "str = 'ii2134hk2xmat79tqqqp'\n",
        "hrp, data = bech32_decode(str)\n",
        "print('{:25s}'.format(str), '-->', hrp, data)\n",
        "\n",
        "str = 'ii2134hk2xmat79tqqqqp'\n",
        "hrp, data = bech32_decode(str)\n",
        "print('{:25s}'.format(str), '-->', hrp, data)\n",
        "\n",
        "str = 'ii2134hk2xmat79tqqqqqp'\n",
        "hrp, data = bech32_decode(str)\n",
        "print('{:25s}'.format(str), '-->', hrp, data)\n",
        "\n",
        "str = 'ii2134hk2xmat79tqqqqqqp'\n",
        "hrp, data = bech32_decode(str)\n",
        "print('{:25s}'.format(str), '-->', hrp, data)\n",
        "\n",
        "str = 'ii2134hk2xmat79tqqqqqqqp'\n",
        "hrp, data = bech32_decode(str)\n",
        "print('{:25s}'.format(str), '-->', hrp, data)\n"
      ],
      "execution_count": 8,
      "outputs": [
        {
          "output_type": "stream",
          "text": [
            "ii2134hk2xmat79tp         --> ii2 [17, 21, 23, 22, 10, 6, 27]\n",
            "ii2134hk2xmat79tqp        --> ii2 [17, 21, 23, 22, 10, 6, 27, 29]\n",
            "ii2134hk2xmat79tqqp       --> ii2 [17, 21, 23, 22, 10, 6, 27, 29, 11]\n",
            "ii2134hk2xmat79tqqqp      --> ii2 [17, 21, 23, 22, 10, 6, 27, 29, 11, 30]\n",
            "ii2134hk2xmat79tqqqqp     --> ii2 [17, 21, 23, 22, 10, 6, 27, 29, 11, 30, 5]\n",
            "ii2134hk2xmat79tqqqqqp    --> ii2 [17, 21, 23, 22, 10, 6, 27, 29, 11, 30, 5, 11]\n",
            "ii2134hk2xmat79tqqqqqqp   --> ii2 [17, 21, 23, 22, 10, 6, 27, 29, 11, 30, 5, 11, 0]\n",
            "ii2134hk2xmat79tqqqqqqqp  --> ii2 [17, 21, 23, 22, 10, 6, 27, 29, 11, 30, 5, 11, 0, 0]\n"
          ],
          "name": "stdout"
        }
      ]
    }
  ]
}