{
  "nbformat": 4,
  "nbformat_minor": 0,
  "metadata": {
    "colab": {
      "name": "Bech32_weakness.ipynb",
      "provenance": [],
      "collapsed_sections": [],
      "include_colab_link": true
    },
    "kernelspec": {
      "name": "python3",
      "display_name": "Python 3"
    }
  },
  "cells": [
    {
      "cell_type": "markdown",
      "metadata": {
        "id": "view-in-github",
        "colab_type": "text"
      },
      "source": [
        "<a href=\"https://colab.research.google.com/github/tnakagawa/ipynb/blob/master/Bech32_weakness.ipynb\" target=\"_parent\"><img src=\"https://colab.research.google.com/assets/colab-badge.svg\" alt=\"Open In Colab\"/></a>"
      ]
    },
    {
      "cell_type": "markdown",
      "metadata": {
        "id": "-omFJLv5VpNU",
        "colab_type": "text"
      },
      "source": [
        "# Bech32の脆弱性\n",
        "\n",
        "[Qiita](https://qiita.com/tnakagawa/items/02d34f0bf7c8dacc65c3)に投稿した記事の検証です。\n"
      ]
    },
    {
      "cell_type": "code",
      "metadata": {
        "id": "VB68f03LVhvX",
        "colab_type": "code",
        "colab": {}
      },
      "source": [
        "!wget https://raw.githubusercontent.com/sipa/bech32/master/ref/python/segwit_addr.py -P local_modules -nc\n",
        "\n",
        "import sys\n",
        "sys.path.append('local_modules')\n",
        "\n",
        "from local_modules.segwit_addr import *\n",
        "\n",
        "hrp = \"te\"\n",
        "data = [25]\n",
        "str = bech32_encode(hrp, data)\n",
        "print(hrp, data, '-->', str)\n",
        "\n",
        "hrp, data = bech32_decode(str)\n",
        "print(str, '-->', hrp, data)\n",
        "\n",
        "str = 'te1eacsl9qp'\n",
        "hrp, data = bech32_decode(str)\n",
        "print(str, '-->', hrp, data)\n",
        "\n"
      ],
      "execution_count": 0,
      "outputs": []
    }
  ]
}