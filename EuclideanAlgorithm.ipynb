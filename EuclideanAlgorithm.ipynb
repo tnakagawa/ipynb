{
  "nbformat": 4,
  "nbformat_minor": 0,
  "metadata": {
    "colab": {
      "name": "EuclideanAlgorithm.ipynb",
      "provenance": [],
      "collapsed_sections": [],
      "include_colab_link": true
    },
    "kernelspec": {
      "name": "python3",
      "display_name": "Python 3"
    }
  },
  "cells": [
    {
      "cell_type": "markdown",
      "metadata": {
        "id": "view-in-github",
        "colab_type": "text"
      },
      "source": [
        "<a href=\"https://colab.research.google.com/github/tnakagawa/ipynb/blob/master/EuclideanAlgorithm.ipynb\" target=\"_parent\"><img src=\"https://colab.research.google.com/assets/colab-badge.svg\" alt=\"Open In Colab\"/></a>"
      ]
    },
    {
      "cell_type": "markdown",
      "metadata": {
        "id": "R4xr8WK1Hetw",
        "colab_type": "text"
      },
      "source": [
        "# ユークリッドの互除法\n",
        "\n",
        "ユークリッドの互除法とは２つの自然数から最大公約数（Greatest Common Divisor）を求める方法の一つです。\n",
        "\n",
        "２つの自然数$a,b$に対応する、最大公約数を$\\gcd(a,b)$と記述します。\n",
        "\n",
        "ここでは、拡張ユークリッドの互除法まで求める事を目的とします。"
      ]
    },
    {
      "cell_type": "markdown",
      "metadata": {
        "id": "3FMdpoO-I2Rf",
        "colab_type": "text"
      },
      "source": [
        "# はじめに\n",
        "\n",
        "いくつかの方法で、$120$と$50$の最大公約数を求めます。\n",
        "\n",
        "## 素因数分解の場合\n",
        "\n",
        "それぞれを因数分解するの以下のようになります。\n",
        "\n",
        "$$\n",
        "\\begin{align*}\n",
        "120 &= 2^3 \\times 3 \\times 5 \\\\\n",
        "100 &= 2 \\times\\quad\\ \\ \\ \\ 5^2 \\\\\n",
        "\\end{align*}\n",
        "$$\n",
        "\n",
        "したがって、最大公約数は以下となります。\n",
        "\n",
        "$$\n",
        "\\gcd(120,50) = 2 \\times 5 = 10\n",
        "$$\n",
        "\n",
        "## すだれ算の場合\n",
        "\n",
        "すだれ算で求めてみます。\n",
        "\n",
        "$$\n",
        "\\begin{align*}\n",
        "2\\ & \\underline{) 120\\ \\ 50} \\\\\n",
        "5\\ & \\underline{)\\ 60\\ \\ \\ 25} \\\\\n",
        "& \\ \\ 12\\ \\ \\ \\ \\ 5 \\\\\n",
        "\\end{align*}\n",
        "$$\n",
        "\n",
        "したがって、最大公約数は以下となります。\n",
        "\n",
        "$$\n",
        "\\gcd(120,50) = 2 \\times 5 = 10\n",
        "$$\n",
        "\n",
        "## ユークリッドの互除法の場合\n",
        "\n",
        "ユークリッドの互除法では、余りを使用します。\n",
        "\n",
        "大きい数を小さい数で割ると商と余りが出ます。\n",
        "\n",
        "次に、小さい数を余りで割ります、商と余りが出ます。\n",
        "\n",
        "割った数を余りで割っていきます、余りが$0$となる最後に割った数が最大公約数となります。\n",
        "\n",
        "実際には以下のようになります。\n",
        "$$\n",
        "\\begin{align*}\n",
        "120 \\div 50 &= 2 \\ldots 20 \\\\\n",
        "50 \\div 20 &= 2 \\ldots 10 \\\\\n",
        "20 \\div 10 &= 2 \\ldots 0 \\\\\n",
        "\\end{align*}\n",
        "$$\n",
        "\n",
        "したがって、最大公約数は以下となります。\n",
        "\n",
        "$$\n",
        "\\gcd(120,50) = 10\n",
        "$$\n",
        "\n",
        "\n"
      ]
    },
    {
      "cell_type": "markdown",
      "metadata": {
        "id": "BYJozvorRKxO",
        "colab_type": "text"
      },
      "source": [
        "# 証明\n",
        "\n",
        "$a,b$は自然数で$a>b$とし、最大公約数を$g$とすると次のようになります。\n",
        "\n",
        "$a = g\\times a'$、$b = g\\times b'$と表わせ、$a'$と$b'$は互いに素となります。\n",
        "\n",
        "$a$を$b$で割ったときの商を$q$余りを$r$とし変形していきます。\n",
        "\n",
        "$$\n",
        "\\begin{align*}\n",
        "a &= b \\times q + r \\\\\n",
        "g\\times a' &=  g\\times b' \\times q + r \\\\\n",
        "g\\times( a' - b' \\times q) &=  r \\\\\n",
        "\\end{align*}\n",
        "$$\n",
        "\n",
        "ここで、$r\\ne0$のとき$r'=a' - b' \\times q$とすると、$g\\times r' = r$となり、$g$は$r$の公約数となります。\n",
        "\n",
        "$a = b \\times q + r $の関係から、$b,r$は$g$より大きい公約数をもちません。\n",
        "\n",
        "もし存在したら、$g$は$a,b$の最大公約数ではなくなってしまいます。\n",
        "\n",
        "$b,r$の最大公約数は$g$となるので、以下の式が成り立ちます。\n",
        "\n",
        "$$\n",
        "\\gcd(a,b)=\\gcd(b,r)\n",
        "$$\n",
        "\n",
        "この関係により、これを繰り返す事と$r$は余りなので、小さくなり最終的に$0$となります。\n",
        "\n",
        "その時に割った数が最大公約数となります。\n",
        "\n"
      ]
    },
    {
      "cell_type": "markdown",
      "metadata": {
        "id": "grLTZxoqdyqd",
        "colab_type": "text"
      },
      "source": [
        "# 実装\n",
        "\n",
        "ユークリッドの互除法は、プログラミング的に実装が簡単です。\n",
        "\n",
        "1. 入力を$a,b$とします。$b<a$であれば入力を入れます。\n",
        "2. $b=0$になるまで、次を繰り返す。\n",
        "3. $a$を$b$で割った余りを$r$とした、$a$を$b$に、$b$を$r$に置き換えます。\n",
        "4. $a$を返す。\n",
        "\n"
      ]
    },
    {
      "cell_type": "code",
      "metadata": {
        "id": "gQgUMQpMfIG-",
        "colab_type": "code",
        "colab": {}
      },
      "source": [
        "def gcd(a, b):\n",
        "    if a < 0:\n",
        "        a = -a\n",
        "    if b < 0:\n",
        "        b = -b\n",
        "    while b != 0:\n",
        "        a, b = b, a % b\n",
        "    return a\n",
        "\n",
        "print(gcd(120, 50))\n",
        "print(gcd(50, 120))"
      ],
      "execution_count": 0,
      "outputs": []
    },
    {
      "cell_type": "markdown",
      "metadata": {
        "id": "JQE_nXy3obW8",
        "colab_type": "text"
      },
      "source": [
        "# 拡張ユークリッドの互除法\n",
        "\n",
        "別名、「一次不定方程式$ax+by=c$の整数解」と呼ばれる定理です。\n",
        "\n",
        "#### 定理１\n",
        "$a,b$を自然数としたとき、$ax+by=c$を満たす整数$x,y$を持つ$\\Longleftrightarrow $$c$は$\\gcd(a,b)$の倍数\n",
        "#### 定理２\n",
        "$a,b$を自然数としたとき、$ax+by=1$を満たす整数$x,y$を持つ$\\Longleftrightarrow $$a,b$は互いに素\n",
        "#### 定理２の証明\n",
        "##### $\\Longrightarrow $の証明\n",
        "待遇を考えます。<br>\n",
        "$a,b$が互いに素でない(公倍数をもつ)$\\Longrightarrow $$ax+by=1$を満たす整数$x,y$を持たない<br>\n",
        "公倍数を$d\\ge2$とすると$a=da',b=db'$と表され、<br>\n",
        "$da'x+db'y=d(a'x+b'y)$となり$d$の倍数でなければならない為、<br>\n",
        "$ax+by=1$を満たす整数$x,y$はありません。\n",
        "#####$\\Longleftarrow $の証明\n",
        "$a,b$が互いに素ならば、$\\{1a,2a,\\cdots , (b-1)a\\}$を$b$で割った余りは全て異なります。※<br>\n",
        "要素数は$b-1$個ですが、$b$で割り切れる数は存在しないので、余りは$\\{1,2,\\cdots , b-1\\}$となります。<br>\n",
        "余りが$1$となるような、$ma,1\\le m\\le (b-1)$を選ぶと、$ma = nb + 1$となります。<br>\n",
        "これを移行すると、$ma - nb = 1$となるので、これを満たす$(x,y)=(m,-n)$が存在します。\n",
        "#####※の証明\n",
        "背理法を使います。<br>\n",
        "もし、同じ余りとなる、$ia,ja$が存在すると仮定します。<br>\n",
        "差$ia-ja=(i-j)a$は余りが消えるので、$b$で割り切れます。<br>\n",
        "$a,b$は互いに素なので、$i-j$が$b$の倍数でなければなりませんが、<br>\n",
        "$1\\le i,j\\le (b-1)$の範囲では$b$の倍数とはなりません。<br>\n",
        "したがって、仮定に反するので、同じ余りとなるものは存在せず全て異なります。\n",
        "#### 定理１の証明\n",
        "##### $\\Longrightarrow $の証明\n",
        "$a,b$は$\\gcd(a,b)$の倍数です。<br>\n",
        "ということは、$ma+nb$も$\\gcd(a,b)$の倍数となります。<br>\n",
        "したがって、$c$は$\\gcd(a,b)$の倍数となります。<br>\n",
        "##### $\\Longleftarrow $の証明\n",
        "$a,b$は、$a=p\\cdot \\gcd(a,b),b=q\\cdot \\gcd(a,b)$と表わせます。（$p,q$は互いに素）<br>\n",
        "$p,q$は互いに素なので、定理２より、$px+qy=1$を満たす整数$x,y$を持ちます。<br>\n",
        "両辺に$\\gcd(a,b)$をかけると、$p\\cdot\\gcd(a,b)x+q\\cdot\\gcd(a,b)y=\\gcd(a,b)$となり<br>\n",
        "$ax+by=\\gcd(a,b)$を満たす、整数$x,y$を持ちます。<br>\n",
        "あとは、整数$x,y$を任意倍すれば、$ax+by=c$の$c$は$\\gcd(a,b)$の倍数となります。<br>\n",
        "\n"
      ]
    },
    {
      "cell_type": "markdown",
      "metadata": {
        "id": "EpXTstdsIgdH",
        "colab_type": "text"
      },
      "source": [
        "# 参考(Reference)\n",
        "\n",
        "* [ユークリッドの互除法 - Wikipedia](https://ja.wikipedia.org/wiki/%E3%83%A6%E3%83%BC%E3%82%AF%E3%83%AA%E3%83%83%E3%83%89%E3%81%AE%E4%BA%92%E9%99%A4%E6%B3%95)\n",
        "* [ユークリッドの互除法の証明と不定方程式 | 高校数学の美しい物語](https://mathtrain.jp/euclid)\n",
        "* [一次不定方程式ax+by=cの整数解 | 高校数学の美しい物語](https://mathtrain.jp/axbyc)\n",
        "* [【ユークリッドの互除法】やり方＆証明を解説！センター試験にも役立つ！ | Studyplus（スタディプラス）](https://www.studyplus.jp/412)"
      ]
    }
  ]
}