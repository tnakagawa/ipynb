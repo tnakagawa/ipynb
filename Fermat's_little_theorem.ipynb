{
  "nbformat": 4,
  "nbformat_minor": 0,
  "metadata": {
    "colab": {
      "name": "Fermat's_little_theorem.ipynb",
      "provenance": [],
      "collapsed_sections": [],
      "include_colab_link": true
    },
    "kernelspec": {
      "name": "python3",
      "display_name": "Python 3"
    }
  },
  "cells": [
    {
      "cell_type": "markdown",
      "metadata": {
        "id": "view-in-github",
        "colab_type": "text"
      },
      "source": [
        "<a href=\"https://colab.research.google.com/github/tnakagawa/ipynb/blob/master/Fermat's_little_theorem.ipynb\" target=\"_parent\"><img src=\"https://colab.research.google.com/assets/colab-badge.svg\" alt=\"Open In Colab\"/></a>"
      ]
    },
    {
      "cell_type": "markdown",
      "metadata": {
        "id": "HIJpExrRmp2l",
        "colab_type": "text"
      },
      "source": [
        "\n",
        "# フェルマーの小定理（Fermat's little theorem）\n",
        "小定理という名称ですが、重要な定理です。\n",
        "\n",
        "有限体$F_p$（$p$は素数）のもとで\n",
        "\n",
        "$$\n",
        "\\begin{align*}\n",
        "&a\\in F_p\\ ,\\ a \\ne 0 \\\\\n",
        "&a^{p-1} \\equiv 1\\pmod {p} \\\\\n",
        "\\end{align*}\n",
        "$$\n"
      ]
    },
    {
      "cell_type": "markdown",
      "metadata": {
        "id": "TXR9dy7JpCZM",
        "colab_type": "text"
      },
      "source": [
        "## サンプル\n",
        "実際にコードで確認してみましょう。\n",
        "\n",
        "$p$は素数です。この値を素数で変えてみてください。\n",
        "\n",
        "一応、素数のサンプルをいくつか挙げます。13、97、997、9973、99991、999983"
      ]
    },
    {
      "cell_type": "code",
      "metadata": {
        "id": "_L023P4pqWMC",
        "colab_type": "code",
        "colab": {}
      },
      "source": [
        "import random\n",
        "\n",
        "p = 97 #@param [13,97,997,9973,99991,999983] {type:\"raw\"}\n",
        "print(\"Prime number is {}.\".format(p))\n",
        "\n",
        "for i in range(10):\n",
        "    a = random.randint(1, p-1)\n",
        "    x = pow(a, p-1, p)\n",
        "    print(\"a = {:<8} ---  a^{{p-1}} = {} mod p\".format(a, x))\n"
      ],
      "execution_count": 0,
      "outputs": []
    },
    {
      "cell_type": "markdown",
      "metadata": {
        "id": "Ol0f1gUfvmN8",
        "colab_type": "text"
      },
      "source": [
        "# 証明\n",
        "いくつかの方法で証明します。"
      ]
    },
    {
      "cell_type": "markdown",
      "metadata": {
        "id": "yXxc7jUpzTgX",
        "colab_type": "text"
      },
      "source": [
        "## 証明１\n",
        "**数学的帰納法**を用いた方法で証明します。\n",
        "\n",
        "$p$を素数、$a$は有限体$F_p$の要素とします。\n",
        "\n",
        "$(a+1)^p$を二項定理で展開していきます。\n",
        "\n",
        "$(a+1)^p = a^p + {}_pC_1a^{p-1} + \\cdots + {}_pC_{p-1}a^{1} + 1$\n",
        "\n",
        "$p$は素数なので、${}_pC_n,1\\le n \\le p-1$は、$p$で割り切れます。（コンビネーションの計算で上に素数$p$が必ず残る為）\n",
        "\n",
        "したがって、$\\bmod$をとると以下の式となります。\n",
        "\n",
        "$(a+1)^p \\equiv a^p + 1 \\pmod{p}$\n",
        "\n",
        "つぎに、$a^p \\equiv a \\pmod{p}$を証明します。\n",
        "\n",
        "$k$の時に成り立つと仮定すると、$k+1$のときも成り立つ事が以下の式からわかります。\n",
        "\n",
        "$$\n",
        "\\begin{align*}\n",
        "k^p &\\equiv k &\\pmod{p} \\\\\n",
        "(k+1)^p &\\equiv k^p + 1 &\\pmod{p} \\\\\n",
        "&\\equiv k + 1 &\\pmod{p} \\\\\n",
        "\\end{align*}\n",
        "$$\n",
        "\n",
        "$k=1$の場合は、$1^p = 1$なので成り立ちます。\n",
        "\n",
        "**数学的帰納法**により、すべての$a$で$a^p \\equiv a \\pmod{p}$が成り立つ事が証明されました。\n",
        "\n",
        "この式$a^p \\equiv a \\pmod{p}$は**フェルマーの小定理**と同値です。\n",
        "\n",
        "$$\n",
        "\\begin{align*}\n",
        "a^{p} &\\equiv a &\\pmod {p} \\\\\n",
        "a^{p-1} &\\equiv 1 &\\pmod {p}\n",
        "\\end{align*}\n",
        "$$\n"
      ]
    },
    {
      "cell_type": "markdown",
      "metadata": {
        "id": "xHaiVkHb6UO9",
        "colab_type": "text"
      },
      "source": [
        "## 証明２\n",
        "有限体$F_p$から$0$を除いた$\\{1,2,\\cdots,p-1\\}$は、$a\\in F_p\\ ,\\ a \\ne 0$とした時、$\\{1\\cdot a,2\\cdot a,\\cdots,(p-1)\\cdot a\\}$と同等の集合になります。\n",
        "\n",
        "これを**背理法**を用いて証明します。\n",
        "\n",
        "$i\\cdot a \\equiv j\\cdot a \\pmod{p}$となるような、$i,j \\in F_p , i \\ne j$が存在すると仮定します。\n",
        "\n",
        "両辺を$a$で割ると、$i \\equiv j \\pmod{p}$となります、$i,j$は有限体$F_p$の要素なので、$i=j$となり仮定に反します。\n",
        "\n",
        "したがって、$\\{1,2,\\cdots,p-1\\}$と$\\{1\\cdot a,2\\cdot a,\\cdots,(p-1)\\cdot a\\}$と同等の集合になります。\n",
        "\n",
        "\\\\\n",
        "\n",
        "つぎに、$\\{1,2,\\cdots,p-1\\}$と$\\{1\\cdot a,2\\cdot a,\\cdots,(p-1)\\cdot a\\}$のそれぞれに対し、全ての要素を掛け合わします。\n",
        "\n",
        "$1\\cdot 2 \\cdots (p-1) = 1\\cdot a \\cdot 2\\cdot a \\cdots (p-1)\\cdot a\\$\n",
        "\n",
        "まとめると以下の式になります。\n",
        "\n",
        "$(p-1)! = (p-1)! \\cdot a^{p-1} $\n",
        "\n",
        "両辺を$(p-1)!$で割ると以下の式になります。\n",
        "\n",
        "$1 = a^{p-1} $\n",
        "\n",
        "したがって、フェルマーの小定理が証明されます。\n",
        "\n",
        "$a^{p-1} \\equiv 1 \\pmod {p}$\n"
      ]
    },
    {
      "cell_type": "markdown",
      "metadata": {
        "id": "5FZdApBoxmhm",
        "colab_type": "text"
      },
      "source": [
        "# 参考（Reference）\n",
        "[フェルマーの小定理 - Wikipedia](https://ja.wikipedia.org/wiki/%E3%83%95%E3%82%A7%E3%83%AB%E3%83%9E%E3%83%BC%E3%81%AE%E5%B0%8F%E5%AE%9A%E7%90%86)"
      ]
    }
  ]
}