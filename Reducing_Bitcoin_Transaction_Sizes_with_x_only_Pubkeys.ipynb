{
  "nbformat": 4,
  "nbformat_minor": 0,
  "metadata": {
    "colab": {
      "name": "Reducing_Bitcoin_Transaction_Sizes_with_x-only_Pubkeys.ipynb",
      "provenance": [],
      "collapsed_sections": [],
      "include_colab_link": true
    },
    "kernelspec": {
      "name": "python3",
      "display_name": "Python 3"
    }
  },
  "cells": [
    {
      "cell_type": "markdown",
      "metadata": {
        "id": "view-in-github",
        "colab_type": "text"
      },
      "source": [
        "<a href=\"https://colab.research.google.com/github/tnakagawa/ipynb/blob/master/Reducing_Bitcoin_Transaction_Sizes_with_x_only_Pubkeys.ipynb\" target=\"_parent\"><img src=\"https://colab.research.google.com/assets/colab-badge.svg\" alt=\"Open In Colab\"/></a>"
      ]
    },
    {
      "cell_type": "markdown",
      "metadata": {
        "id": "OSu6v2X5_s_2",
        "colab_type": "text"
      },
      "source": [
        "# x座標だけの公開鍵によるBitcoinのTransactionの削減\n",
        "\n",
        "[Qiita](https://qiita.com/tnakagawa/private/52666def36afdeabd05f)で投稿した内容のソース検証用です。"
      ]
    },
    {
      "cell_type": "code",
      "metadata": {
        "id": "0JVg1jvBgU8c",
        "colab_type": "code",
        "cellView": "form",
        "colab": {}
      },
      "source": [
        "#@title secp256k1実装（ダブルクリックで閲覧可）\n",
        "class S256P:\n",
        "    p = 0xfffffffffffffffffffffffffffffffffffffffffffffffffffffffefffffc2f\n",
        "    n = 0xfffffffffffffffffffffffffffffffebaaedce6af48a03bbfd25e8cd0364141\n",
        "\n",
        "    def __init__(self, x, y):\n",
        "        self.x = x\n",
        "        self.y = y\n",
        "        if self.x is None and self.y is None:\n",
        "            return\n",
        "        self.x = self.x % self.p\n",
        "        self.y = self.y % self.p\n",
        "        if pow(self.y, 2, self.p) != (pow(self.x, 3, self.p) + 7) % self.p:\n",
        "            raise ValueError(\n",
        "                'The x and y are not on curve.{} {}'.format(x.num, y.num))\n",
        "\n",
        "    def __add__(self, other):\n",
        "        if self.x == None:\n",
        "            return other.__class__(other.x, other.y)\n",
        "        if other.x == None:\n",
        "            return self.__class__(self.x, self.y)\n",
        "        if self.x == other.x and self.y != other.y:\n",
        "            return self.__class__(None, None)\n",
        "        if self.x != other.x:\n",
        "            s = ((self.y - other.y)\n",
        "                 * pow(self.x - other.x, self.p - 2, self.p)) % self.p\n",
        "            x = (pow(s, 2, self.p) - self.x - other.x) % self.p\n",
        "            y = (s * (self.x - x) - self.y) % self.p\n",
        "            return self.__class__(x, y)\n",
        "        if self == other and self.y == 0 * self.x:\n",
        "            return self.__class__(None, None)\n",
        "        if self == other:\n",
        "            s = ((3 * pow(self.x, 2, self.p))\n",
        "                 * pow(2 * self.y, self.p - 2, self.p)) % self.p\n",
        "            x = (pow(s, 2, self.p) - 2 * self.x) % self.p\n",
        "            y = (s * (self.x - x) - self.y) % self.p\n",
        "            return self.__class__(x, y)\n",
        "\n",
        "    def __rmul__(self, coefficient):\n",
        "        if self.x is None:\n",
        "            return self.__class__(None, None)\n",
        "        coef = coefficient % self.n\n",
        "        current = self.__class__(self.x, self.y)\n",
        "        result = self.__class__(None, None)\n",
        "        while coef:\n",
        "            if coef & 1:\n",
        "                result += current\n",
        "            current += current\n",
        "            coef >>= 1\n",
        "        return result\n",
        "\n",
        "    def X(self):\n",
        "        return self.x.to_bytes(32, 'big')\n",
        "\n",
        "    def compress(self):\n",
        "        if self.y % 2 == 0:\n",
        "            return b'\\x02' + self.x.to_bytes(32, 'big')\n",
        "        else:\n",
        "            return b'\\x03' + self.x.to_bytes(32, 'big')\n",
        "\n",
        "    def uncompress(self):\n",
        "        return b'\\x04' + self.x.to_bytes(32, 'big') + self.y.to_bytes(32, 'big')\n",
        "\n",
        "\n",
        "def parse(compress):\n",
        "    if len(compress) != 33:\n",
        "        raise ValueError('illegal length: {}'.format(len(compress)))\n",
        "    even = True\n",
        "    if compress[0] == 3:\n",
        "        even = False\n",
        "    x = int.from_bytes(compress[1:33], 'big')\n",
        "    y2 = (pow(x, 3, S256P.p) + 7) % S256P.p\n",
        "    y = pow(y2, (S256P.p + 1) >> 2, S256P.p)\n",
        "    if even:\n",
        "        if y % 2 == 1:\n",
        "            y = S256P.p - y\n",
        "    else:\n",
        "        if y % 2 == 0:\n",
        "            y = S256P.p - y\n",
        "    return S256P(x, y)\n",
        "\n",
        "\n",
        "G = S256P(0x79be667ef9dcbbac55a06295ce870b07029bfcdb2dce28d959f2815b16f81798,\n",
        "          0x483ada7726a3c4655da4fbfc0e1108a8fd17b448a68554199c47d08ffb10d4b8)\n"
      ],
      "execution_count": 0,
      "outputs": []
    },
    {
      "cell_type": "markdown",
      "metadata": {
        "id": "WjB6THnP_0K4",
        "colab_type": "text"
      },
      "source": [
        "## Schnorrの署名と検証\n",
        "\n",
        "Schnorrの署名(SchnorrSign)と検証(SchnorrVerify)を実装します。\n",
        "\n",
        "署名は、署名者が公開鍵を知っているので、公開鍵のy座標が偶数か奇数かで、署名値の計算方法を変えます。\n",
        "\n",
        "検証は、公開鍵のx座標しかしらないので、偶数`0x02`であるとして公開鍵をパースして検証します。"
      ]
    },
    {
      "cell_type": "code",
      "metadata": {
        "id": "bM0Z4DCf7cfF",
        "colab_type": "code",
        "colab": {}
      },
      "source": [
        "import hashlib\n",
        "import random\n",
        "\n",
        "def SchnorrSign(k, R, P, m, d):\n",
        "    h = int.from_bytes(hashlib.sha256(R.compress() + P.X() + m).digest(), 'big')\n",
        "    if P.y % 2 == 0:\n",
        "        return (k + h * d) % S256P.n\n",
        "    else:\n",
        "        return (k - h * d) % S256P.n\n",
        "\n",
        "\n",
        "def SchnorrVerify(s, Ra, Px, m):\n",
        "    sG = s * G\n",
        "    h = int.from_bytes(hashlib.sha256(Ra + Px + m).digest(), 'big')\n",
        "    P = parse(b'\\x02' + Px)\n",
        "    R = parse(Ra)\n",
        "    Q = R + h * P\n",
        "    return (sG.x == Q.x and sG.y == Q.y)\n"
      ],
      "execution_count": 0,
      "outputs": []
    },
    {
      "cell_type": "markdown",
      "metadata": {
        "id": "awed53q3_5xY",
        "colab_type": "text"
      },
      "source": [
        "## 確認\n",
        "\n",
        "実際に、Schnoorの署名と検証を行ってみます。\n",
        "\n",
        "まずは、公開鍵のy座標が偶数`0x02`である場合について署名と検証を行います。\n",
        "\n",
        "次に、秘密鍵の負値にすることで公開鍵のy座標が奇数`0x03`となります。\n",
        "\n",
        "この場合について署名と検証を行います。"
      ]
    },
    {
      "cell_type": "code",
      "metadata": {
        "id": "LxuOIopX_Qm0",
        "colab_type": "code",
        "cellView": "form",
        "colab": {}
      },
      "source": [
        "#@title 公開鍵が0x02で始まる場合\n",
        "m = b'message'\n",
        "\n",
        "d = random.randint(1, S256P.n - 1)\n",
        "P = d * G\n",
        "if P.y % 2 == 1:\n",
        "    d = -d\n",
        "    P = d * G\n",
        "\n",
        "k = random.randint(1, S256P.n - 1)\n",
        "R = k * G\n",
        "\n",
        "print('-----  SchnorrSign  -----')\n",
        "print('random point key : **********')\n",
        "print('  random point R :', R.compress().hex())\n",
        "print('\\033[32m'+' compress Pubkey :'+'\\033[0m',\n",
        "      '\\033[32m'+P.compress().hex()+'\\033[0m')\n",
        "print('         message :', m.hex())\n",
        "print('     private key : **********')\n",
        "s = SchnorrSign(k, R, P, m, d)\n",
        "print('     signature s :', s.to_bytes(32, 'big').hex())\n",
        "\n",
        "Px = P.X()\n",
        "Ra = R.compress()\n",
        "\n",
        "print('----- SchnorrVerify -----')\n",
        "print('     signature s :', s.to_bytes(32, 'big').hex())\n",
        "print('     signature R :', Ra.hex())\n",
        "print('\\033[34m'+'   x-only Pubkey :'+'\\033[0m',\n",
        "      '\\033[34m'+P.X().hex()+'\\033[0m')\n",
        "print('         message :', m.hex())\n",
        "result = SchnorrVerify(s, Ra, Px, m)\n",
        "print('\\033[31m'+'result of verify :'+'\\033[0m',\n",
        "      '\\033[31m'+str(result)+'\\033[0m')"
      ],
      "execution_count": 0,
      "outputs": []
    },
    {
      "cell_type": "code",
      "metadata": {
        "id": "TgTMd3tX_bng",
        "colab_type": "code",
        "cellView": "form",
        "colab": {}
      },
      "source": [
        "#@title 公開鍵が0x03で始まる場合\n",
        "d = -d\n",
        "P = d * G\n",
        "k = random.randint(1, S256P.n - 1)\n",
        "R = k * G\n",
        "\n",
        "print('-----  SchnorrSign  -----')\n",
        "print('random point key : **********')\n",
        "print('  random point R :', R.compress().hex())\n",
        "print('\\033[32m'+' compress Pubkey :'+'\\033[0m',\n",
        "      '\\033[32m'+P.compress().hex()+'\\033[0m')\n",
        "print('         message :', m.hex())\n",
        "print('     private key : **********')\n",
        "s = SchnorrSign(k, R, P, m, d)\n",
        "print('     signature s :', s.to_bytes(32, 'big').hex())\n",
        "\n",
        "Px = P.X()\n",
        "Ra = R.compress()\n",
        "\n",
        "print('----- SchnorrVerify -----')\n",
        "print('     signature s :', s.to_bytes(32, 'big').hex())\n",
        "print('     signature R :', Ra.hex())\n",
        "print('\\033[34m'+'   x-only Pubkey :'+'\\033[0m',\n",
        "      '\\033[34m'+P.X().hex()+'\\033[0m')\n",
        "print('         message :', m.hex())\n",
        "result = SchnorrVerify(s, Ra, Px, m)\n",
        "print('\\033[31m'+'result of verify :'+'\\033[0m',\n",
        "      '\\033[31m'+str(result)+'\\033[0m')\n"
      ],
      "execution_count": 0,
      "outputs": []
    },
    {
      "cell_type": "markdown",
      "metadata": {
        "id": "_ZWP5VrvC2X0",
        "colab_type": "text"
      },
      "source": [
        "# 結果\n",
        "\n",
        "どちらも、署名側の<font color=green>公開鍵（`compress Pubkey`）</font>は先頭が`0x02`と`0x03`で異なりますが、検証側の<font color=blue>x座標だけの公開鍵（`x-only Pubkey`）</font>は同じです。\n",
        "\n",
        "検証結果はどちらも、<font color=red>True</font>となっているはずです。"
      ]
    }
  ]
}