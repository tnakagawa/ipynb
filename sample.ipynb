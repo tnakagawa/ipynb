{
  "nbformat": 4,
  "nbformat_minor": 0,
  "metadata": {
    "colab": {
      "name": "sample.ipynb",
      "provenance": [],
      "include_colab_link": true
    },
    "kernelspec": {
      "name": "python3",
      "display_name": "Python 3"
    }
  },
  "cells": [
    {
      "cell_type": "markdown",
      "metadata": {
        "id": "view-in-github",
        "colab_type": "text"
      },
      "source": [
        "<a href=\"https://colab.research.google.com/github/tnakagawa/ipynb/blob/master/sample.ipynb\" target=\"_parent\"><img src=\"https://colab.research.google.com/assets/colab-badge.svg\" alt=\"Open In Colab\"/></a>"
      ]
    },
    {
      "cell_type": "markdown",
      "metadata": {
        "id": "BqaOitavebM6",
        "colab_type": "text"
      },
      "source": [
        "# Hello World"
      ]
    },
    {
      "cell_type": "code",
      "metadata": {
        "id": "4qzRdAu5ea2c",
        "colab_type": "code",
        "colab": {
          "base_uri": "https://localhost:8080/",
          "height": 34
        },
        "outputId": "612aeb24-643d-4042-a87b-9e75a3d53a5f"
      },
      "source": [
        "print(\"Hello World\")"
      ],
      "execution_count": 1,
      "outputs": [
        {
          "output_type": "stream",
          "text": [
            "Hello World\n"
          ],
          "name": "stdout"
        }
      ]
    },
    {
      "cell_type": "markdown",
      "metadata": {
        "id": "2HQEhS-TfO-i",
        "colab_type": "text"
      },
      "source": [
        "# 数式\n",
        "\n",
        "$x+y+z=1$\n",
        "\n",
        "\n",
        "\n",
        "$$\n",
        "\\begin{align*}\n",
        "& x + y = z \\\\\n",
        "& a + b+ c= d \\\\\n",
        "& \\sum^{k=0}_{n} \\\\\n",
        "& \\text{日本語} \\\\\n",
        "\\end{align*}\n",
        "$$\n",
        "\n"
      ]
    }
  ]
}