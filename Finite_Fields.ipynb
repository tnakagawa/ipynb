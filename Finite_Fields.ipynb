{
  "nbformat": 4,
  "nbformat_minor": 0,
  "metadata": {
    "colab": {
      "name": "Finite_Fields.ipynb",
      "provenance": [],
      "collapsed_sections": [],
      "include_colab_link": true
    },
    "kernelspec": {
      "name": "python3",
      "display_name": "Python 3"
    }
  },
  "cells": [
    {
      "cell_type": "markdown",
      "metadata": {
        "id": "view-in-github",
        "colab_type": "text"
      },
      "source": [
        "<a href=\"https://colab.research.google.com/github/tnakagawa/ipynb/blob/master/Finite_Fields.ipynb\" target=\"_parent\"><img src=\"https://colab.research.google.com/assets/colab-badge.svg\" alt=\"Open In Colab\"/></a>"
      ]
    },
    {
      "cell_type": "markdown",
      "metadata": {
        "id": "Pd0MQWtOi1td",
        "colab_type": "text"
      },
      "source": [
        "# 有限体(Finite field)\n",
        "有限体とは、余りの世界です。"
      ]
    },
    {
      "cell_type": "markdown",
      "metadata": {
        "id": "WzjdRbcc_Slq",
        "colab_type": "text"
      },
      "source": [
        "## 体(Field)\n",
        "\n",
        "体とはなんでしょうか？\n",
        "\n",
        "* 群(Group)\n",
        " * 加法の元で閉包(Closure under addition)：$a,b$が集合$S$に存在している時、$a+b$も集合$S$に存在する。\n",
        " * 加法の結合法則(Associativity of addition)：$a,b,c$が集合$S$に存在している時、$a+(b+c)=(a+b)+c$が成り立つ。\n",
        " * 加法単位元(Additive identity)：$a$が集合$S$に存在している時、$a+0=0+a=a$となる$0$が存在する。\n",
        " * 加法逆元(Additive inverse)：$a$が集合$S$に存在している時、$a+(-a)=(-a)+a=0$となる$-a$が集合$S$に存在する。\n",
        "* アーベル群（Abelian group)\n",
        " * 加法の可換(Commutativity of addition)：$a,b$が集合$S$に存在している時、$a+b=b+a$が成り立つ。\n",
        "* 環(Ring)\n",
        " * 乗法の元で閉包(Closure under multiplication)：$a,b$が集合$S$に存在している時、$a\\times b$も集合$S$に存在する。\n",
        " * 乗法の結合法則(Associativity of multiplication)：$a,b,c$が集合$S$に存在している時、$a\\times (b\\times c)=(a\\times b)\\times c$が成り立つ。\n",
        " * 分配法則(Distributive laws)：$a,b,c$が集合$S$に存在している時、$a\\times (b+c)=a\\times b + a\\times c$が成り立つ。また、$(a+b)\\times c=a\\times c + b\\times c$も成り立つ。\n",
        "* 可換環(Commutative ring)\n",
        " * 乗法の可換(Commutativity of multiplication)：$a,b$が集合$S$に存在している時、$a\\times b=b\\times a$が成り立つ。\n",
        "* 整域(Integral domain)\n",
        " * 乗法単位元(Multiplicative identity)：$a$が集合$S$に存在している時、$a\\times 1=1\\times a=a$となる$1$が集合$S$に存在する。\n",
        " * 非零因子(No zero divisors)：$a,b$が集合$S$に存在している時、$a\\times b=0$となる場合、$a=0$または$b=0$のどちらとなる。\n",
        "* 体(Field)\n",
        " * 乗法逆元(Multiplicative inverse)：$a$が集合$S$に存在し$a\\ne 0$である時、$a\\times a^{-1}=a^{-1}\\times a=1$となる$a^{-1}$が集合$S$に存在する。\n",
        "\n",
        "<br>\n",
        "それぞれ上位の条件を全て含みます。<br>\n",
        "例えば、体は12個全てを満たしている必要があります。<br>\n",
        "体は、群、アーベル群、環、可換環、整域の全てを含みます。\n",
        "\n",
        "整数は体でしょうか？答えは体ではありません。<br>\n",
        "最後の条件が満たせません。例えば$2$であれば、$2^{-1}$が整数になければなりません。<br>\n",
        "有理数は体となります。<br>\n",
        "\n",
        "ここでは、有理数はすでに体であるということを前提とします。<br>\n",
        "\n",
        "\n",
        "\n",
        "\n"
      ]
    },
    {
      "cell_type": "markdown",
      "metadata": {
        "id": "bq2t_6HYL2Cz",
        "colab_type": "text"
      },
      "source": [
        "## 有限体（素数）\n",
        "\n",
        "最初に記述したように、有限体は余りの世界です。<br>\n",
        "自然数を$p$で割った余りが、有限体となります。<br>\n",
        "この$p$のことを位数(order)といいます。<br>\n",
        "有限体の集合を$F_p$とすると、$F_p=\\{0,1,2,\\cdots ,p-1\\}$となります。<br>\n",
        "これらが体を満たしている事を見ていきます。<br>\n",
        "また、位数$p$は素数とします。\n",
        "\n",
        "#### 有限体での加法\n",
        "通常の加法とは異なるルールを設けます。<br>\n",
        "有限体の加法は、加法後の値が$p$を超えてしまった場合、その余りを演算結果とします。<br>\n",
        "こうする事で、以下を満たします。\n",
        "\n",
        "* 加法の元で閉包(Closure under addition)\n",
        "* 加法の結合法則(Associativity of addition)\n",
        "* 加法単位元(Additive identity)\n",
        "<br>\n",
        "\n",
        "#### 有限体での減法\n",
        "有限体は、$F_p=\\{0,1,2,\\cdots ,p-1\\}$ですので、負値がありません。<br>\n",
        "これを表す必要があります。<br>\n",
        "有限体は余りなので、$a+(-a)=0=p$となれば良いわけです。<br>\n",
        "したがって、$-a=p-a$と表せば、以下を満たす事ができます。\n",
        "\n",
        "* 加法逆元(Additive inverse)\n",
        "\n",
        "Pythonには、%というモジュロ演算子がありますので、試しにやってみましょう。\n"
      ]
    },
    {
      "cell_type": "code",
      "metadata": {
        "id": "FPBHc2UOp8E5",
        "colab_type": "code",
        "colab": {}
      },
      "source": [
        "p = 97\n",
        "a = 10\n",
        "ma = (-a) % p\n",
        "print(a, ma, (a+ma) % p)"
      ],
      "execution_count": 0,
      "outputs": []
    },
    {
      "cell_type": "markdown",
      "metadata": {
        "id": "VUMoh2yIsB8V",
        "colab_type": "text"
      },
      "source": [
        "\n",
        "\n",
        "以下も、有限体の加法であれば満たされます。\n",
        "\n",
        " * 加法の可換(Commutativity of addition)\n",
        "\n",
        "#### 有限体での乗法\n",
        "加法の時と同様に、通常とは異なる乗法を定義します。<br>\n",
        "有限体の乗法も、乗法後の値が$p$を超えてしまった場合、その余りを演算結果とします。<br>\n",
        "こうする事で、以下を満します。\n",
        "\n",
        "* 乗法の元で閉包(Closure under multiplication)\n",
        "* 乗法の結合法則(Associativity of multiplication)\n",
        "* 分配法則(Distributive laws)\n",
        "* 乗法の可換(Commutativity of multiplication)\n",
        "* 乗法単位元(Multiplicative identity)\n",
        "* 非零因子(No zero divisors)\n",
        "\n",
        "#### 有限体での逆元\n",
        "これは、フェルマーの小定理から求める事ができます。<br>\n",
        "フェルマーの小定理は、$a \\in F_p , a \\ne 0, a^{p-1} \\equiv 1 \\pmod{p}$なので、\n",
        "$a^{-1} \\equiv a^{p-2}  \\pmod{p}$となります。\n",
        "\n",
        "* 乗法逆元(Multiplicative inverse)\n",
        "\n",
        "フェルマーの小定理は[こちら](https://github.com/tnakagawa/ipynb/blob/master/Fermat's_little_theorem.ipynb)で説明しています。\n",
        "\n",
        "試しにやってみましょう。べき乗については、モジュロ用のpow関数を使います。"
      ]
    },
    {
      "cell_type": "code",
      "metadata": {
        "id": "yyjlhfBFwu94",
        "colab_type": "code",
        "colab": {}
      },
      "source": [
        "p = 97\n",
        "a = 3\n",
        "ia = pow(a, p-2, p)\n",
        "print(a, ia, (a*ia) % p)\n"
      ],
      "execution_count": 0,
      "outputs": []
    },
    {
      "cell_type": "markdown",
      "metadata": {
        "id": "hjr-0REByn-U",
        "colab_type": "text"
      },
      "source": [
        "簡単ではありますが、有限体が体である事がわかりました。\n",
        "次に有限体クラスを実装していこうと思います。"
      ]
    },
    {
      "cell_type": "markdown",
      "metadata": {
        "id": "8Uu731E60fE3",
        "colab_type": "text"
      },
      "source": [
        "## 実装\n",
        "\n",
        "毎回演算に%などを付けるのは面倒くさいので、有限体のクラスを作成したいと思います。<br>\n"
      ]
    },
    {
      "cell_type": "code",
      "metadata": {
        "id": "e2MiZkDCSGhC",
        "colab_type": "code",
        "colab": {},
        "cellView": "form"
      },
      "source": [
        "#@title モジュールのロード\n",
        "!wget https://raw.githubusercontent.com/tnakagawa/pyref/master/ipynb/ff.py -P local_modules -nc\n",
        "\n",
        "import sys\n",
        "sys.path.append('local_modules')\n"
      ],
      "execution_count": 0,
      "outputs": []
    },
    {
      "cell_type": "markdown",
      "metadata": {
        "id": "VVtdgagN6inH",
        "colab_type": "text"
      },
      "source": [
        "実際に使ってみましょう。\n"
      ]
    },
    {
      "cell_type": "code",
      "metadata": {
        "id": "OJE9-g7G6hti",
        "colab_type": "code",
        "colab": {}
      },
      "source": [
        "from local_modules.ff import FiniteField\n",
        "\n",
        "a = FiniteField(10, 97)\n",
        "b = FiniteField(90, 97)\n",
        "c = a + b\n",
        "print(a)\n",
        "print(b)\n",
        "print(c)\n",
        "c = a - b\n",
        "print(a)\n",
        "print(b)\n",
        "print(c)\n",
        "c = a * b\n",
        "print(a)\n",
        "print(b)\n",
        "print(c)\n",
        "c = a / b\n",
        "print(a)\n",
        "print(b)\n",
        "print(c)\n",
        "\n"
      ],
      "execution_count": 0,
      "outputs": []
    },
    {
      "cell_type": "markdown",
      "metadata": {
        "id": "U1QU36Tc1uo9",
        "colab_type": "text"
      },
      "source": [
        "\n",
        "# 参考(Reference)\n",
        "\n",
        "* [Cryptography and Network Security (4th Edition)](https://www.amazon.co.jp/gp/product/0131873164/ref=ppx_yo_dt_b_asin_title_o04_s00?ie=UTF8&psc=1)\n"
      ]
    }
  ]
}