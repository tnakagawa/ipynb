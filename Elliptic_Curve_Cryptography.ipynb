{
  "nbformat": 4,
  "nbformat_minor": 0,
  "metadata": {
    "colab": {
      "name": "Elliptic_Curve_Cryptography.ipynb",
      "provenance": [],
      "collapsed_sections": [],
      "include_colab_link": true
    },
    "kernelspec": {
      "name": "python3",
      "display_name": "Python 3"
    }
  },
  "cells": [
    {
      "cell_type": "markdown",
      "metadata": {
        "id": "view-in-github",
        "colab_type": "text"
      },
      "source": [
        "<a href=\"https://colab.research.google.com/github/tnakagawa/ipynb/blob/master/Elliptic_Curve_Cryptography.ipynb\" target=\"_parent\"><img src=\"https://colab.research.google.com/assets/colab-badge.svg\" alt=\"Open In Colab\"/></a>"
      ]
    },
    {
      "cell_type": "markdown",
      "metadata": {
        "id": "f3rtGeaZCYQX",
        "colab_type": "text"
      },
      "source": [
        "# 楕円曲線暗号（Elliptic Curve Cryptography）\n",
        "\n",
        "ここでは、楕円曲線の理論（加算、２倍算、スカラー倍算）を実装します。\n"
      ]
    },
    {
      "cell_type": "markdown",
      "metadata": {
        "colab_type": "text",
        "id": "luZYiCyaKQ5c"
      },
      "source": [
        "## 楕円曲線（Elliptic Curve）\n",
        "\n",
        "楕円曲線は次の数式で表されます。\n",
        "\n",
        "$$\n",
        "y^2 = x^3 + ax + b\n",
        "$$\n",
        "\n"
      ]
    },
    {
      "cell_type": "markdown",
      "metadata": {
        "id": "PZ8Pl3eGWOHw",
        "colab_type": "text"
      },
      "source": [
        "例：$a=-3,b=3$とした時の曲線をグラフにしてみます。\n",
        "\n",
        "式の左辺が$y^2$なので、X軸に対して線対称となっていることがわかります。"
      ]
    },
    {
      "cell_type": "code",
      "metadata": {
        "id": "1IxtuWjbOLLQ",
        "colab_type": "code",
        "outputId": "ac0effc1-eea3-484e-afa3-d69935089a44",
        "colab": {
          "base_uri": "https://localhost:8080/",
          "height": 269
        },
        "cellView": "form"
      },
      "source": [
        "#@title 楕円曲線グラフ（実数）\n",
        "import numpy as np\n",
        "import matplotlib.pyplot as pl\n",
        "\n",
        "a = -3\n",
        "b = 3\n",
        "\n",
        "# 楕円曲線\n",
        "y, x = np.ogrid[-5:5:100j, -5:5:100j]\n",
        "pl.contour(x.ravel(), y.ravel(), y**2 - x**3 - a*x - b, levels=[0])\n",
        "\n",
        "pl.grid()\n",
        "pl.show()"
      ],
      "execution_count": 1,
      "outputs": [
        {
          "output_type": "display_data",
          "data": {
            "image/png": "[encoded data removed]",
            "text/plain": [
              "<Figure size 432x288 with 1 Axes>"
            ]
          },
          "metadata": {
            "tags": []
          }
        }
      ]
    },
    {
      "cell_type": "markdown",
      "metadata": {
        "id": "uZDy8TQQYdpe",
        "colab_type": "text"
      },
      "source": [
        "## 点の加算\n",
        "\n",
        "楕円曲線上の点に対して、加算を定義します。\n",
        "\n",
        "点を$P,Q,R$とした時、$P+Q=R$を次のように定義します。\n",
        "\n",
        "点$P$と点$Q$の2点を通る直線が曲線と交わる点を$X$軸に対して線対称としたものを点$R$とします。\n",
        "\n",
        "グラフにしてみます。"
      ]
    },
    {
      "cell_type": "code",
      "metadata": {
        "colab_type": "code",
        "outputId": "51563d54-114b-4938-e12e-4d154979081b",
        "id": "kfhAqSonS3ov",
        "colab": {
          "base_uri": "https://localhost:8080/",
          "height": 269
        },
        "cellView": "form"
      },
      "source": [
        "#@title 点の加算（楕円曲線グラフ）\n",
        "\n",
        "# 楕円曲線\n",
        "y, x = np.ogrid[-5:5:100j, -5:5:100j]\n",
        "pl.contour(x.ravel(), y.ravel(), y**2 - x**3 - a*x - b, levels=[0])\n",
        "\n",
        "# 点P\n",
        "px = -2.0\n",
        "py = -np.sqrt(px**3 + a*px + b)\n",
        "pl.plot(px, py, 'o', color='green')\n",
        "\n",
        "# 点Q\n",
        "qx = 0.5\n",
        "qy = np.sqrt(qx**3 + a*qx + b)\n",
        "pl.plot(qx, qy, 'o', color='blue')\n",
        "\n",
        "# 点Pと点Qを通る直線 s*x+t\n",
        "s = (qy-py)/(qx-px)\n",
        "t = py - s*px\n",
        "lx = np.arange(-4, 5)\n",
        "ly = s*lx + t\n",
        "pl.plot(lx, ly, zorder=0)\n",
        "\n",
        "# 点-R\n",
        "poly = np.poly1d([-1, s**2, 2*s*t-a, t**2-b])\n",
        "rx = max(np.roots(poly))\n",
        "ry = np.sqrt(rx**3 + a*rx + b)\n",
        "pl.plot(rx, ry, 'o', color='orange')\n",
        "\n",
        "# 点R\n",
        "pl.plot(rx, -ry, 'o', color='red')\n",
        "\n",
        "pl.axvline(rx, linestyle='dashed', zorder=0)\n",
        "\n",
        "pl.grid()\n",
        "pl.show()"
      ],
      "execution_count": 2,
      "outputs": [
        {
          "output_type": "display_data",
          "data": {
            "image/png": "[encoded data removed]",
            "text/plain": [
              "<Figure size 432x288 with 1 Axes>"
            ]
          },
          "metadata": {
            "tags": []
          }
        }
      ]
    },
    {
      "cell_type": "markdown",
      "metadata": {
        "id": "cd4_BNkJgGC-",
        "colab_type": "text"
      },
      "source": [
        "緑色が点$P$、青色が点$Q$、赤色が点$R$となります。"
      ]
    },
    {
      "cell_type": "markdown",
      "metadata": {
        "colab_type": "text",
        "id": "COPE42NbRD8p"
      },
      "source": [
        "## 2倍算\n",
        "簡単に言うと、2倍算とは同じ点の加算です。\n",
        "\n",
        "楕円曲線上の点に対して、2倍算を定義します。\n",
        "\n",
        "点$P$に対して、$2P=P+P=Q$を次のように定義します。\n",
        "\n",
        "点$P$における曲線の接線がもう一度曲線と交わる点を$X$軸に対して線対称としたものを点$Q$とします。\n",
        "\n",
        "グラフにしてみます。"
      ]
    },
    {
      "cell_type": "code",
      "metadata": {
        "colab_type": "code",
        "outputId": "ad84a9d8-2a5b-4e6d-f1b5-b8faf20041c8",
        "cellView": "form",
        "id": "OsSWarESU--j",
        "colab": {
          "base_uri": "https://localhost:8080/",
          "height": 269
        }
      },
      "source": [
        "#@title 2倍算（楕円曲線グラフ）\n",
        "\n",
        "# 楕円曲線\n",
        "y, x = np.ogrid[-5:5:100j, -5:5:100j]\n",
        "pl.contour(x.ravel(), y.ravel(), y**2 - x**3 - a*x - b, levels=[0])\n",
        "\n",
        "# 点P\n",
        "px = -1.2\n",
        "py = np.sqrt(px**3 + a*px + b)\n",
        "pl.plot(px, py, 'o', color='green')\n",
        "\n",
        "# 点Pの接線 s*x+t\n",
        "s = (3*px**2+a)/(2*py)\n",
        "t = py - s*px\n",
        "lx = np.arange(-4, 5)\n",
        "ly = s*lx + t\n",
        "pl.plot(lx, ly, zorder=0)\n",
        "\n",
        "# 点-Q\n",
        "poly = np.poly1d([-1, s**2, 2*s*t-a, t**2-b])\n",
        "qx = max(np.roots(poly))\n",
        "qy = np.sqrt(qx**3 + a*qx + b)\n",
        "pl.plot(np.real(qx), np.real(qy), 'o', color='orange')\n",
        "\n",
        "# 点Q\n",
        "pl.plot(np.real(qx), np.real(-qy), 'o', color='blue')\n",
        "pl.axvline(np.real(qx), linestyle='dashed', zorder=0)\n",
        "\n",
        "pl.grid()\n",
        "pl.show()"
      ],
      "execution_count": 3,
      "outputs": [
        {
          "output_type": "display_data",
          "data": {
            "image/png": "[encoded data removed]",
            "text/plain": [
              "<Figure size 432x288 with 1 Axes>"
            ]
          },
          "metadata": {
            "tags": []
          }
        }
      ]
    },
    {
      "cell_type": "markdown",
      "metadata": {
        "colab_type": "text",
        "id": "-S1r8AZWbJLg"
      },
      "source": [
        "緑色が点$P$、青色が点$Q$となります。"
      ]
    },
    {
      "cell_type": "markdown",
      "metadata": {
        "colab_type": "text",
        "id": "Ln5J_oTLdUYU"
      },
      "source": [
        "## スカラー倍算\n",
        "簡単に言うと、同じ点をスカラー（$n$）回、加算することです。\n",
        "\n",
        "楕円曲線上の点に対して、スカラー倍を定義します。\n",
        "\n",
        "点$P$に対して、$n$回加算したものを、$nP=P+\\cdots +P$と定義します。\n"
      ]
    },
    {
      "cell_type": "markdown",
      "metadata": {
        "colab_type": "text",
        "id": "kv1xxDZqe6rS"
      },
      "source": [
        "## 無限遠点\n",
        "特殊な点を定義します。\n",
        "\n",
        "点の加算を定義してきましたが、2点を通る直線や接線が交わらない場合があります。\n",
        "\n",
        "この場合でも第3の点を持つ事とし、無限遠点$O$と呼びます。\n",
        "\n",
        "$P+(-P)=O$\n",
        "\n",
        "楕円曲線で点の加算を群にする為に必要です。"
      ]
    },
    {
      "cell_type": "code",
      "metadata": {
        "colab_type": "code",
        "outputId": "11e945eb-e4d2-4057-9906-7b5b0afe12c6",
        "cellView": "form",
        "id": "mhCTH8IMgnA0",
        "colab": {
          "base_uri": "https://localhost:8080/",
          "height": 269
        }
      },
      "source": [
        "#@title 無限遠点（楕円曲線グラフ）\n",
        "\n",
        "# 楕円曲線\n",
        "y, x = np.ogrid[-5:5:100j, -5:5:100j]\n",
        "pl.contour(x.ravel(), y.ravel(), y**2 - x**3 - a*x - b, levels=[0])\n",
        "\n",
        "# 点P\n",
        "px = 1.0\n",
        "py = np.sqrt(px**3 + a*px + b)\n",
        "pl.plot(px, py, 'o', color='green')\n",
        "pl.plot(px, -py, 'o', color='blue')\n",
        "\n",
        "# 無限遠点\n",
        "pl.axvline(np.real(px), linestyle='solid', zorder=0)\n",
        "\n",
        "pl.grid()\n",
        "pl.show()"
      ],
      "execution_count": 6,
      "outputs": [
        {
          "output_type": "display_data",
          "data": {
            "image/png": "[encoded data removed]",
            "text/plain": [
              "<Figure size 432x288 with 1 Axes>"
            ]
          },
          "metadata": {
            "tags": []
          }
        }
      ]
    },
    {
      "cell_type": "markdown",
      "metadata": {
        "colab_type": "text",
        "id": "p2vpbHsyC0rg"
      },
      "source": [
        "緑色が点$P$とした時、青色が点$-P$となります。"
      ]
    },
    {
      "cell_type": "markdown",
      "metadata": {
        "colab_type": "text",
        "id": "_FBU5l5cDA1n"
      },
      "source": [
        "## 可換群（アーベル群）\n",
        "\n",
        "これまでに定義してきた、楕円曲線の加法は可換群となります。\n",
        "\n",
        "* 点$P,Q$において、$P+Q=R$となる点$R$が存在する。（__閉包/Closure__）\n",
        "* 点$P,Q,R$において、$P+(Q+R)=(P+Q)+R$が成り立つ。（__結合法則/Associative__）\n",
        "* 点$P$において、$P+O=O+P=P$となる点$O$が存在する。（__単位元/Identity element__）\n",
        "* 点$P$において、$P+(-P)=(-P)+P=O$となる点$-P$が存在する。（__逆元/Inverse element__）\n",
        "* 点$P,Q$において、$P+Q=Q+P$が成り立つ。（__交換法則/Commutative__）\n",
        "\n",
        "\n",
        "\n",
        "結合法則以外に関しては、定義を見れば成り立つ事がわかると思います。\n",
        "\n",
        "結合法則に関しても、いろいろな場合分けが必要ですが、計算で求める事ができるそうです。"
      ]
    },
    {
      "cell_type": "markdown",
      "metadata": {
        "id": "9LvBIK-aH6YC",
        "colab_type": "text"
      },
      "source": [
        "# 実装\n",
        "\n"
      ]
    },
    {
      "cell_type": "markdown",
      "metadata": {
        "id": "Y5K6gHRPCeW6",
        "colab_type": "text"
      },
      "source": [
        "# 参考文献 (References)\n",
        "\n",
        "*   [楕円曲線暗号 - Wikipedia](https://ja.wikipedia.org/wiki/%E6%A5%95%E5%86%86%E6%9B%B2%E7%B7%9A%E6%9A%97%E5%8F%B7)\n",
        "*   [楕円曲線 - Wikipedia](https://ja.wikipedia.org/wiki/%E6%A5%95%E5%86%86%E6%9B%B2%E7%B7%9A)\n",
        "* J. H. シルヴァーマン. 楕円曲線論入門. シュプリンガー・フェアラーク東京, 1995, 351p\n",
        "* 辻井 重男. 暗号理論と楕円曲線. 森北出版, 2008, 251p\n"
      ]
    }
  ]
}