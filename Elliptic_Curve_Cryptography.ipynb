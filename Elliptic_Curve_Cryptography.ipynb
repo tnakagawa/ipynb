{
  "nbformat": 4,
  "nbformat_minor": 0,
  "metadata": {
    "colab": {
      "name": "Elliptic_Curve_Cryptography.ipynb",
      "provenance": [],
      "collapsed_sections": [],
      "include_colab_link": true
    },
    "kernelspec": {
      "name": "python3",
      "display_name": "Python 3"
    }
  },
  "cells": [
    {
      "cell_type": "markdown",
      "metadata": {
        "id": "view-in-github",
        "colab_type": "text"
      },
      "source": [
        "<a href=\"https://colab.research.google.com/github/tnakagawa/ipynb/blob/master/Elliptic_Curve_Cryptography.ipynb\" target=\"_parent\"><img src=\"https://colab.research.google.com/assets/colab-badge.svg\" alt=\"Open In Colab\"/></a>"
      ]
    },
    {
      "cell_type": "markdown",
      "metadata": {
        "id": "f3rtGeaZCYQX",
        "colab_type": "text"
      },
      "source": [
        "# 楕円曲線暗号（Elliptic Curve Cryptography）\n",
        "\n",
        "ここでは、楕円曲線の理論（加算、２倍算、スカラー倍算）を実装します。\n"
      ]
    },
    {
      "cell_type": "markdown",
      "metadata": {
        "colab_type": "text",
        "id": "luZYiCyaKQ5c"
      },
      "source": [
        "## 楕円曲線（Elliptic Curve）\n",
        "\n",
        "楕円曲線は次の数式で表されます。\n",
        "\n",
        "$$\n",
        "y^2 = x^3 + ax + b\n",
        "$$\n",
        "\n"
      ]
    },
    {
      "cell_type": "markdown",
      "metadata": {
        "id": "PZ8Pl3eGWOHw",
        "colab_type": "text"
      },
      "source": [
        "例：$a=-3,b=3$とした時の曲線をグラフにしてみます。\n",
        "\n",
        "式の左辺が$y^2$なので、X軸に対して線対称となっていることがわかります。"
      ]
    },
    {
      "cell_type": "code",
      "metadata": {
        "id": "1IxtuWjbOLLQ",
        "colab_type": "code",
        "outputId": "65e100b2-31c0-4471-90ed-c34b90ce692a",
        "colab": {
          "base_uri": "https://localhost:8080/",
          "height": 269
        },
        "cellView": "form"
      },
      "source": [
        "#@title 楕円曲線グラフ（実数）\n",
        "import numpy as np\n",
        "import matplotlib.pyplot as pl\n",
        "\n",
        "a = -3\n",
        "b = 3\n",
        "\n",
        "# 楕円曲線\n",
        "y, x = np.ogrid[-5:5:100j, -5:5:100j]\n",
        "pl.contour(x.ravel(), y.ravel(), y**2 - x**3 - a*x - b, levels=[0])\n",
        "\n",
        "pl.grid()\n",
        "pl.show()"
      ],
      "execution_count": 2,
      "outputs": [
        {
          "output_type": "display_data",
          "data": {
            "image/png": "[encoded data removed]",
            "text/plain": [
              "<Figure size 432x288 with 1 Axes>"
            ]
          },
          "metadata": {
            "tags": []
          }
        }
      ]
    },
    {
      "cell_type": "markdown",
      "metadata": {
        "id": "uZDy8TQQYdpe",
        "colab_type": "text"
      },
      "source": [
        "## 点の加算\n",
        "\n",
        "楕円曲線上の点に対して、加算を定義します。\n",
        "\n",
        "点を$P,Q,R$とした時、$P+Q=R$を次のように定義します。\n",
        "\n",
        "点$P$と点$Q$の2点を通る直線が曲線と交わる点を$X$軸に対して線対称としたものを点$R$とします。\n",
        "\n",
        "グラフにしてみます。"
      ]
    },
    {
      "cell_type": "code",
      "metadata": {
        "colab_type": "code",
        "outputId": "e7142665-b46d-4083-d2aa-8aaa1a223b67",
        "id": "kfhAqSonS3ov",
        "colab": {
          "base_uri": "https://localhost:8080/",
          "height": 269
        },
        "cellView": "form"
      },
      "source": [
        "#@title 点の加算（楕円曲線グラフ）\n",
        "a = -3\n",
        "b = 3\n",
        "\n",
        "# 楕円曲線\n",
        "y, x = np.ogrid[-5:5:100j, -5:5:100j]\n",
        "pl.contour(x.ravel(), y.ravel(), y**2 - x**3 - a*x - b, levels=[0])\n",
        "\n",
        "# 点P\n",
        "px = -2.0\n",
        "py = -np.sqrt(px**3 + a*px + b)\n",
        "pl.plot(px, py, 'o', color='green')\n",
        "\n",
        "# 点Q\n",
        "qx = 0.5\n",
        "qy = np.sqrt(qx**3 + a*qx + b)\n",
        "pl.plot(qx, qy, 'o', color='blue')\n",
        "\n",
        "# 点Pと点Qを通る直線 m*x+n\n",
        "m = (qy-py)/(qx-px)\n",
        "n = py - m*px\n",
        "lx = np.arange(-4, 5)\n",
        "ly = m*lx + n\n",
        "pl.plot(lx, ly, zorder=0)\n",
        "\n",
        "# 点-R\n",
        "poly = np.poly1d([-1, m**2, 2*m*n-a, n**2-b])\n",
        "rx = max(np.roots(poly))\n",
        "ry = np.sqrt(rx**3 + a*rx + b)\n",
        "pl.plot(rx, ry, 'o', color='orange')\n",
        "\n",
        "# 点R\n",
        "pl.plot(rx, -ry, 'o', color='red')\n",
        "\n",
        "pl.axvline(rx, linestyle='dashed', zorder=0)\n",
        "\n",
        "pl.grid()\n",
        "pl.show()"
      ],
      "execution_count": 3,
      "outputs": [
        {
          "output_type": "display_data",
          "data": {
            "image/png": "[encoded data removed]",
            "text/plain": [
              "<Figure size 432x288 with 1 Axes>"
            ]
          },
          "metadata": {
            "tags": []
          }
        }
      ]
    },
    {
      "cell_type": "markdown",
      "metadata": {
        "id": "cd4_BNkJgGC-",
        "colab_type": "text"
      },
      "source": [
        "緑色が点$P$、青色が点$Q$、赤色が点$R$となります。"
      ]
    },
    {
      "cell_type": "markdown",
      "metadata": {
        "id": "Y5K6gHRPCeW6",
        "colab_type": "text"
      },
      "source": [
        "# 参考文献 (References)\n",
        "\n",
        "*   [楕円曲線暗号 - Wikipedia](https://ja.wikipedia.org/wiki/%E6%A5%95%E5%86%86%E6%9B%B2%E7%B7%9A%E6%9A%97%E5%8F%B7)\n",
        "*   [楕円曲線 - Wikipedia](https://ja.wikipedia.org/wiki/%E6%A5%95%E5%86%86%E6%9B%B2%E7%B7%9A)\n",
        "\n"
      ]
    }
  ]
}